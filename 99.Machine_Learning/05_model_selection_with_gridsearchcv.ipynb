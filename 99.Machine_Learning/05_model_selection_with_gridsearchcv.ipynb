{
  "nbformat": 4,
  "nbformat_minor": 0,
  "metadata": {
    "language_info": {
      "pygments_lexer": "ipython3",
      "file_extension": ".py",
      "codemirror_mode": {
        "version": 3,
        "name": "ipython"
      },
      "nbconvert_exporter": "python",
      "version": "3.7.1",
      "mimetype": "text/x-python",
      "name": "python"
    },
    "kernelspec": {
      "display_name": "Python 3",
      "language": "python",
      "name": "python3"
    },
    "colab": {
      "name": "05_model_selection_with_gridsearchcv.ipynb",
      "provenance": [],
      "collapsed_sections": [],
      "include_colab_link": true
    }
  },
  "cells": [
    {
      "cell_type": "markdown",
      "metadata": {
        "id": "view-in-github",
        "colab_type": "text"
      },
      "source": [
        "<a href=\"https://colab.research.google.com/github/marcoscavarda/DataScience/blob/master/99.Machine_Learning/05_model_selection_with_gridsearchcv.ipynb\" target=\"_parent\"><img src=\"https://colab.research.google.com/assets/colab-badge.svg\" alt=\"Open In Colab\"/></a>"
      ]
    },
    {
      "cell_type": "markdown",
      "metadata": {
        "id": "25sq3o0XB8mV",
        "colab_type": "text"
      },
      "source": [
        "\n",
        "\n",
        "# Selección de modelos con GridSearchCV"
      ]
    },
    {
      "cell_type": "code",
      "metadata": {
        "id": "cG3e8vUdB8mf",
        "colab_type": "code",
        "colab": {}
      },
      "source": [
        "%matplotlib inline\n",
        "import numpy as np\n",
        "import matplotlib.pyplot as plt"
      ],
      "execution_count": 0,
      "outputs": []
    },
    {
      "cell_type": "markdown",
      "metadata": {
        "id": "gqGPAxNxB8ms",
        "colab_type": "text"
      },
      "source": [
        "\n",
        "\n",
        "# Parameter selection, Validation, and Testing"
      ]
    },
    {
      "cell_type": "markdown",
      "metadata": {
        "id": "OSoZBXQDB8mw",
        "colab_type": "text"
      },
      "source": [
        "\n",
        "\n",
        "Como vimos en la sesión anterior, muchos modelos tienen una serie de parámetros de configuración (llamados hiperparámetros) que influencian en el performance del modelo:\n",
        "\n",
        "<img src='https://scikit-learn.org/stable/_images/sphx_glr_plot_underfitting_overfitting_001.png'>\n",
        "\n",
        "En la figura de arriba vemos los resultados para una regresión en la que estamos ajustando los datos con modelos de grado 1, 4 y 15. Claramente vemos que el modelo de grado 1 tiene mucho bias y el de grado 15 mucha varianza (overfitting). El punto medio está en el polinomio de grado 4. \n",
        "\n",
        "¿Es posible ser capaces de encontrar una vía analítica que nos asegure cuantitativamente que un modelo está ajustado con los hiperparámetros óptimos? \n",
        "\n",
        "Si mostramos el grado de complejidad de un modelo comparado con su performance, veremos que existe un punto óptimo que nos indica que esos son los parámetros adecuados."
      ]
    },
    {
      "cell_type": "markdown",
      "metadata": {
        "id": "8qzDeTD-B8m6",
        "colab_type": "text"
      },
      "source": [
        "\n",
        "\n",
        "## Selección de Hiperparámetros, Over-fitting, y Under-fitting\n",
        "\n",
        "Sin embargo, no existe una regla general que nos permita encontrar ese punto dulce salvo hacer pruebas por fuerza bruta. Es decir, para encontrar los valores óptimos de los hiperparámetros del modelo, es necesario hacer una búsqueda por fuerza bruta.\n",
        "\n",
        "Por ejemplo, vamos a ver como sería una búsqueda de hiperparámetros en KNN:"
      ]
    },
    {
      "cell_type": "code",
      "metadata": {
        "id": "EPfcebwqB8m-",
        "colab_type": "code",
        "outputId": "18dd27b0-4282-4384-eb40-1e9c9ab7ff92",
        "colab": {
          "base_uri": "https://localhost:8080/",
          "height": 290
        }
      },
      "source": [
        "from sklearn.model_selection import cross_val_score, KFold\n",
        "from sklearn.neighbors import KNeighborsRegressor\n",
        "\n",
        "# generate toy dataset:\n",
        "\n",
        "x = np.linspace(-3, 3, 100)\n",
        "rng = np.random.RandomState(42)\n",
        "y = np.sin(4 * x) + x + rng.normal(size=len(x))\n",
        "X = x[:, np.newaxis]\n",
        "\n",
        "cv = KFold(shuffle=True)\n",
        "\n",
        "# for each parameter setting do cross-validation:\n",
        "\n",
        "for n_neighbors in [1, 2, 3, 4, 5, 6, 7, 8, 9, 10, 15, 20,30,40, 50]:\n",
        "    scores = cross_val_score(KNeighborsRegressor(n_neighbors=n_neighbors), X, y, cv=cv)\n",
        "    print(\"n_neighbors: %d, average score: %f\" % (n_neighbors, np.mean(scores)))"
      ],
      "execution_count": 0,
      "outputs": [
        {
          "output_type": "stream",
          "text": [
            "n_neighbors: 1, average score: 0.480363\n",
            "n_neighbors: 2, average score: 0.681941\n",
            "n_neighbors: 3, average score: 0.689136\n",
            "n_neighbors: 4, average score: 0.728108\n",
            "n_neighbors: 5, average score: 0.716960\n",
            "n_neighbors: 6, average score: 0.738063\n",
            "n_neighbors: 7, average score: 0.731266\n",
            "n_neighbors: 8, average score: 0.769728\n",
            "n_neighbors: 9, average score: 0.731850\n",
            "n_neighbors: 10, average score: 0.748143\n",
            "n_neighbors: 15, average score: 0.703793\n",
            "n_neighbors: 20, average score: 0.635432\n",
            "n_neighbors: 30, average score: 0.573888\n",
            "n_neighbors: 40, average score: 0.625965\n",
            "n_neighbors: 50, average score: 0.553663\n"
          ],
          "name": "stdout"
        }
      ]
    },
    {
      "cell_type": "markdown",
      "metadata": {
        "id": "-p3gPTG9B8na",
        "colab_type": "text"
      },
      "source": [
        "\n",
        "\n",
        "En *scikit-learn* disponemos de una función que nos permite ver como evoluciona el poder predictivo de un modelo en función de la complejidad del mismo:"
      ]
    },
    {
      "cell_type": "code",
      "metadata": {
        "id": "hgKDthTIB8nh",
        "colab_type": "code",
        "outputId": "fbb57b63-0238-45a6-eb6d-2bf6e31bcae1",
        "colab": {
          "base_uri": "https://localhost:8080/",
          "height": 287
        }
      },
      "source": [
        "from sklearn.model_selection import validation_curve\n",
        "n_neighbors = [1, 2, 3, 4, 5, 6, 7, 8, 9, 10, 15, 20,30,40, 50]\n",
        "train_scores, test_scores = validation_curve(KNeighborsRegressor(), X, y, param_name=\"n_neighbors\",\n",
        "                                             param_range=n_neighbors, cv=cv)\n",
        "plt.ylim=(0,1)\n",
        "plt.plot(n_neighbors, train_scores.mean(axis=1), label=\"train score\")\n",
        "plt.plot(n_neighbors, test_scores.mean(axis=1), label=\"test score\")\n",
        "plt.legend(loc=\"best\")\n",
        "axes = plt.gca()\n",
        "axes.set_ylim([0, 1])"
      ],
      "execution_count": 0,
      "outputs": [
        {
          "output_type": "execute_result",
          "data": {
            "text/plain": [
              "(0.0, 1.0)"
            ]
          },
          "metadata": {
            "tags": []
          },
          "execution_count": 3
        },
        {
          "output_type": "display_data",
          "data": {
            "image/png": "[encoded data removed]",
            "text/plain": [
              "<Figure size 432x288 with 1 Axes>"
            ]
          },
          "metadata": {
            "tags": [],
            "needs_background": "light"
          }
        }
      ]
    },
    {
      "cell_type": "markdown",
      "metadata": {
        "id": "Mu1jvUXqB8nw",
        "colab_type": "text"
      },
      "source": [
        "\n",
        "\n",
        "Si el modelo requiere múltiples hiperparámetros, se prueban por fuerza bruta, todas las combinaciones. A continuación vamos a ver como lanzar una Support Vector Machine con los parámetros `C` (param. de regularización) y `gamma` (un parámetro del kernel gausiano de los SVMs)"
      ]
    },
    {
      "cell_type": "code",
      "metadata": {
        "id": "VWJe5XquB8nz",
        "colab_type": "code",
        "outputId": "e5c2bd33-d8bd-4a8f-af23-cf5b0ef3fc72",
        "colab": {
          "base_uri": "https://localhost:8080/",
          "height": 380
        }
      },
      "source": [
        "from sklearn.model_selection import cross_val_score, KFold\n",
        "from sklearn.svm import SVR\n",
        "\n",
        "# each parameter setting do cross-validation:\n",
        "\n",
        "for C in [0.001, 0.01, 0.1, 1, 10]:\n",
        "    for gamma in [0.001, 0.01, 0.1, 1]:\n",
        "        scores = cross_val_score(SVR(C=C, gamma=gamma), X, y, cv=cv)\n",
        "        print(\"C: %f, gamma: %f, average score: %f\" % (C, gamma, np.mean(scores)))"
      ],
      "execution_count": 0,
      "outputs": [
        {
          "output_type": "stream",
          "text": [
            "C: 0.001000, gamma: 0.001000, average score: -0.038816\n",
            "C: 0.001000, gamma: 0.010000, average score: -0.111564\n",
            "C: 0.001000, gamma: 0.100000, average score: -0.082767\n",
            "C: 0.001000, gamma: 1.000000, average score: 0.003177\n",
            "C: 0.010000, gamma: 0.001000, average score: -0.017392\n",
            "C: 0.010000, gamma: 0.010000, average score: -0.103241\n",
            "C: 0.010000, gamma: 0.100000, average score: 0.081746\n",
            "C: 0.010000, gamma: 1.000000, average score: 0.077028\n",
            "C: 0.100000, gamma: 0.001000, average score: -0.002883\n",
            "C: 0.100000, gamma: 0.010000, average score: 0.165155\n",
            "C: 0.100000, gamma: 0.100000, average score: 0.511996\n",
            "C: 0.100000, gamma: 1.000000, average score: 0.487224\n",
            "C: 1.000000, gamma: 0.001000, average score: 0.194883\n",
            "C: 1.000000, gamma: 0.010000, average score: 0.606920\n",
            "C: 1.000000, gamma: 0.100000, average score: 0.602279\n",
            "C: 1.000000, gamma: 1.000000, average score: 0.718949\n",
            "C: 10.000000, gamma: 0.001000, average score: 0.596283\n",
            "C: 10.000000, gamma: 0.010000, average score: 0.595187\n",
            "C: 10.000000, gamma: 0.100000, average score: 0.670161\n",
            "C: 10.000000, gamma: 1.000000, average score: 0.737690\n"
          ],
          "name": "stdout"
        }
      ]
    },
    {
      "cell_type": "markdown",
      "metadata": {
        "id": "SRrBFBUsB8n9",
        "colab_type": "text"
      },
      "source": [
        "\n",
        "\n",
        "Como este tipo de patrones es tan común, existe una clase en scikit-learn que nos permite realizar estas búsquedas de hiperparámetros. Este objeto se llama `GridSearchCV` y recibe como entrada un diccionario que describe todos los parámetros (y sus valores) que deben ser probados para el entrenamiento.\n"
      ]
    },
    {
      "cell_type": "code",
      "metadata": {
        "id": "zk9ulGAnB8oF",
        "colab_type": "code",
        "colab": {}
      },
      "source": [
        "from sklearn.svm import SVR\n",
        "from sklearn.model_selection import GridSearchCV\n",
        "\n",
        "cv = KFold(shuffle=True)\n",
        "\n",
        "param_grid = {'C': [0.001, 0.01, 0.1, 1, 10],\n",
        "              'gamma': [0.001, 0.01, 0.1, 1]}\n",
        "\n",
        "grid = GridSearchCV(SVR(), param_grid=param_grid, cv=cv, verbose=3)"
      ],
      "execution_count": 0,
      "outputs": []
    },
    {
      "cell_type": "markdown",
      "metadata": {
        "id": "PKRwWa5HB8oQ",
        "colab_type": "text"
      },
      "source": [
        "\n",
        "\n",
        "Una de las grandes ventajas de `GridSearchCV` es que es un *meta-estimador*. Es decir, toma como entrada un estimador de scikit-learn (SVM, LinearRegression, etc.) y crea un nuevo estimador con los parámetros ya ajustados. \n",
        "Como scikit-learn tiene una API muy uniforme, podemos utilizar el los métodos **`fit`**, **`predict`**, y **`score`** tal y como haríamos con cualquier otro estimador:"
      ]
    },
    {
      "cell_type": "code",
      "metadata": {
        "id": "EKrgz291B8oT",
        "colab_type": "code",
        "outputId": "644d1a53-0ede-48e5-9c62-075e79ad0f06",
        "colab": {
          "base_uri": "https://localhost:8080/",
          "height": 1000
        }
      },
      "source": [
        "grid.fit(X, y)"
      ],
      "execution_count": 0,
      "outputs": [
        {
          "output_type": "stream",
          "text": [
            "Fitting 5 folds for each of 20 candidates, totalling 100 fits\n",
            "[CV] C=0.001, gamma=0.001 ............................................\n",
            "[CV] ............... C=0.001, gamma=0.001, score=-0.171, total=   0.0s\n",
            "[CV] C=0.001, gamma=0.001 ............................................\n",
            "[CV] ............... C=0.001, gamma=0.001, score=-0.085, total=   0.0s\n",
            "[CV] C=0.001, gamma=0.001 ............................................\n",
            "[CV] ............... C=0.001, gamma=0.001, score=-0.074, total=   0.0s\n",
            "[CV] C=0.001, gamma=0.001 ............................................\n",
            "[CV] ............... C=0.001, gamma=0.001, score=-0.078, total=   0.0s\n",
            "[CV] C=0.001, gamma=0.001 ............................................\n",
            "[CV] ................ C=0.001, gamma=0.001, score=0.000, total=   0.0s\n",
            "[CV] C=0.001, gamma=0.01 .............................................\n",
            "[CV] ................ C=0.001, gamma=0.01, score=-0.167, total=   0.0s\n",
            "[CV] C=0.001, gamma=0.01 .............................................\n",
            "[CV] ................ C=0.001, gamma=0.01, score=-0.083, total=   0.0s\n",
            "[CV] C=0.001, gamma=0.01 .............................................\n",
            "[CV] ................ C=0.001, gamma=0.01, score=-0.071, total=   0.0s\n",
            "[CV] C=0.001, gamma=0.01 .............................................\n",
            "[CV] ................ C=0.001, gamma=0.01, score=-0.075, total=   0.0s\n",
            "[CV] C=0.001, gamma=0.01 .............................................\n",
            "[CV] ................. C=0.001, gamma=0.01, score=0.003, total=   0.0s\n",
            "[CV] C=0.001, gamma=0.1 ..............................................\n",
            "[CV] ................. C=0.001, gamma=0.1, score=-0.151, total=   0.0s\n",
            "[CV] C=0.001, gamma=0.1 ..............................................\n",
            "[CV] ................. C=0.001, gamma=0.1, score=-0.074, total=   0.0s\n",
            "[CV] C=0.001, gamma=0.1 ..............................................\n",
            "[CV] ................. C=0.001, gamma=0.1, score=-0.056, total=   0.0s\n",
            "[CV] C=0.001, gamma=0.1 ..............................................\n",
            "[CV] ................. C=0.001, gamma=0.1, score=-0.063, total=   0.0s\n",
            "[CV] C=0.001, gamma=0.1 ..............................................\n",
            "[CV] .................. C=0.001, gamma=0.1, score=0.015, total=   0.0s\n",
            "[CV] C=0.001, gamma=1 ................................................\n",
            "[CV] ................... C=0.001, gamma=1, score=-0.155, total=   0.0s\n",
            "[CV] C=0.001, gamma=1 ................................................\n",
            "[CV] ................... C=0.001, gamma=1, score=-0.075, total=   0.0s\n",
            "[CV] C=0.001, gamma=1 ................................................\n",
            "[CV] ................... C=0.001, gamma=1, score=-0.058, total=   0.0s\n",
            "[CV] C=0.001, gamma=1 ................................................\n",
            "[CV] ................... C=0.001, gamma=1, score=-0.066, total=   0.0s\n",
            "[CV] C=0.001, gamma=1 ................................................\n",
            "[CV] .................... C=0.001, gamma=1, score=0.013, total=   0.0s\n",
            "[CV] C=0.01, gamma=0.001 .............................................\n",
            "[CV] ................ C=0.01, gamma=0.001, score=-0.167, total=   0.0s\n",
            "[CV] C=0.01, gamma=0.001 .............................................\n",
            "[CV] ................ C=0.01, gamma=0.001, score=-0.083, total=   0.0s\n",
            "[CV] C=0.01, gamma=0.001 .............................................\n",
            "[CV] ................ C=0.01, gamma=0.001, score=-0.070, total=   0.0s\n",
            "[CV] C=0.01, gamma=0.001 .............................................\n",
            "[CV] ................ C=0.01, gamma=0.001, score=-0.074, total=   0.0s\n",
            "[CV] C=0.01, gamma=0.001 .............................................\n",
            "[CV] ................. C=0.01, gamma=0.001, score=0.003, total=   0.0s\n",
            "[CV] C=0.01, gamma=0.01 ..............................................\n",
            "[CV] ................. C=0.01, gamma=0.01, score=-0.131, total=   0.0s\n",
            "[CV] C=0.01, gamma=0.01 ..............................................\n",
            "[CV] ................. C=0.01, gamma=0.01, score=-0.063, total=   0.0s\n",
            "[CV] C=0.01, gamma=0.01 ..............................................\n",
            "[CV] ................. C=0.01, gamma=0.01, score=-0.037, total=   0.0s\n",
            "[CV] C=0.01, gamma=0.01 ..............................................\n",
            "[CV] ................. C=0.01, gamma=0.01, score=-0.046, total=   0.0s\n",
            "[CV] C=0.01, gamma=0.01 ..............................................\n",
            "[CV] .................. C=0.01, gamma=0.01, score=0.030, total=   0.0s\n",
            "[CV] C=0.01, gamma=0.1 ...............................................\n",
            "[CV] ................... C=0.01, gamma=0.1, score=0.004, total=   0.0s\n",
            "[CV] C=0.01, gamma=0.1 ...............................................\n",
            "[CV] ................... C=0.01, gamma=0.1, score=0.021, total=   0.0s\n",
            "[CV] C=0.01, gamma=0.1 ...............................................\n",
            "[CV] ................... C=0.01, gamma=0.1, score=0.083, total=   0.0s\n",
            "[CV] C=0.01, gamma=0.1 ...............................................\n",
            "[CV] ................... C=0.01, gamma=0.1, score=0.063, total=   0.0s\n",
            "[CV] C=0.01, gamma=0.1 ...............................................\n",
            "[CV] ................... C=0.01, gamma=0.1, score=0.135, total=   0.0s\n",
            "[CV] C=0.01, gamma=1 .................................................\n",
            "[CV] .................... C=0.01, gamma=1, score=-0.019, total=   0.0s\n",
            "[CV] C=0.01, gamma=1 .................................................\n",
            "[CV] ..................... C=0.01, gamma=1, score=0.007, total=   0.0s\n",
            "[CV] C=0.01, gamma=1 .................................................\n",
            "[CV] ..................... C=0.01, gamma=1, score=0.070, total=   0.0s\n",
            "[CV] C=0.01, gamma=1 .................................................\n",
            "[CV] ..................... C=0.01, gamma=1, score=0.041, total=   0.0s\n",
            "[CV] C=0.01, gamma=1 .................................................\n",
            "[CV] ..................... C=0.01, gamma=1, score=0.124, total=   0.0s\n",
            "[CV] C=0.1, gamma=0.001 ..............................................\n",
            "[CV] ................. C=0.1, gamma=0.001, score=-0.127, total=   0.0s\n",
            "[CV] C=0.1, gamma=0.001 ..............................................\n",
            "[CV] ................. C=0.1, gamma=0.001, score=-0.061, total=   0.0s\n",
            "[CV] C=0.1, gamma=0.001 ..............................................\n",
            "[CV] ................. C=0.1, gamma=0.001, score=-0.034, total=   0.0s\n",
            "[CV] C=0.1, gamma=0.001 ..............................................\n",
            "[CV] ................. C=0.1, gamma=0.001, score=-0.043, total=   0.0s\n",
            "[CV] C=0.1, gamma=0.001 ..............................................\n",
            "[CV] .................. C=0.1, gamma=0.001, score=0.033, total=   0.0s\n",
            "[CV] C=0.1, gamma=0.01 ...............................................\n",
            "[CV] ................... C=0.1, gamma=0.01, score=0.146, total=   0.0s\n",
            "[CV] C=0.1, gamma=0.01 ...............................................\n",
            "[CV] ................... C=0.1, gamma=0.01, score=0.088, total=   0.0s\n",
            "[CV] C=0.1, gamma=0.01 ...............................................\n",
            "[CV] ................... C=0.1, gamma=0.01, score=0.201, total=   0.0s\n",
            "[CV] C=0.1, gamma=0.01 ...............................................\n",
            "[CV] ................... C=0.1, gamma=0.01, score=0.161, total=   0.0s\n",
            "[CV] C=0.1, gamma=0.01 ...............................................\n",
            "[CV] ................... C=0.1, gamma=0.01, score=0.232, total=   0.0s\n",
            "[CV] C=0.1, gamma=0.1 ................................................\n",
            "[CV] .................... C=0.1, gamma=0.1, score=0.476, total=   0.0s\n",
            "[CV] C=0.1, gamma=0.1 ................................................\n",
            "[CV] .................... C=0.1, gamma=0.1, score=0.441, total=   0.0s\n",
            "[CV] C=0.1, gamma=0.1 ................................................\n",
            "[CV] .................... C=0.1, gamma=0.1, score=0.600, total=   0.0s\n",
            "[CV] C=0.1, gamma=0.1 ................................................\n",
            "[CV] .................... C=0.1, gamma=0.1, score=0.495, total=   0.0s\n",
            "[CV] C=0.1, gamma=0.1 ................................................\n",
            "[CV] .................... C=0.1, gamma=0.1, score=0.603, total=   0.0s\n",
            "[CV] C=0.1, gamma=1 ..................................................\n",
            "[CV] ...................... C=0.1, gamma=1, score=0.438, total=   0.0s\n",
            "[CV] C=0.1, gamma=1 ..................................................\n",
            "[CV] ...................... C=0.1, gamma=1, score=0.429, total=   0.0s\n",
            "[CV] C=0.1, gamma=1 ..................................................\n",
            "[CV] ...................... C=0.1, gamma=1, score=0.586, total=   0.0s\n",
            "[CV] C=0.1, gamma=1 ..................................................\n",
            "[CV] ...................... C=0.1, gamma=1, score=0.474, total=   0.0s\n",
            "[CV] C=0.1, gamma=1 ..................................................\n",
            "[CV] ...................... C=0.1, gamma=1, score=0.587, total=   0.0s\n",
            "[CV] C=1, gamma=0.001 ................................................\n",
            "[CV] .................... C=1, gamma=0.001, score=0.164, total=   0.0s\n",
            "[CV] C=1, gamma=0.001 ................................................\n",
            "[CV] .................... C=1, gamma=0.001, score=0.094, total=   0.0s\n",
            "[CV] C=1, gamma=0.001 ................................................\n",
            "[CV] .................... C=1, gamma=0.001, score=0.220, total=   0.0s\n",
            "[CV] C=1, gamma=0.001 ................................................\n",
            "[CV] .................... C=1, gamma=0.001, score=0.178, total=   0.0s\n",
            "[CV] C=1, gamma=0.001 ................................................\n",
            "[CV] .................... C=1, gamma=0.001, score=0.250, total=   0.0s\n",
            "[CV] C=1, gamma=0.01 .................................................\n",
            "[CV] ..................... C=1, gamma=0.01, score=0.446, total=   0.0s\n",
            "[CV] C=1, gamma=0.01 .................................................\n",
            "[CV] ..................... C=1, gamma=0.01, score=0.517, total=   0.0s\n",
            "[CV] C=1, gamma=0.01 .................................................\n",
            "[CV] ..................... C=1, gamma=0.01, score=0.704, total=   0.0s\n",
            "[CV] C=1, gamma=0.01 .................................................\n",
            "[CV] ..................... C=1, gamma=0.01, score=0.570, total=   0.0s\n",
            "[CV] C=1, gamma=0.01 .................................................\n",
            "[CV] ..................... C=1, gamma=0.01, score=0.655, total=   0.0s\n",
            "[CV] C=1, gamma=0.1 ..................................................\n",
            "[CV] ...................... C=1, gamma=0.1, score=0.387, total=   0.0s\n",
            "[CV] C=1, gamma=0.1 ..................................................\n",
            "[CV] ...................... C=1, gamma=0.1, score=0.659, total=   0.0s\n",
            "[CV] C=1, gamma=0.1 ..................................................\n",
            "[CV] ...................... C=1, gamma=0.1, score=0.787, total=   0.0s\n",
            "[CV] C=1, gamma=0.1 ..................................................\n",
            "[CV] ...................... C=1, gamma=0.1, score=0.627, total=   0.0s\n",
            "[CV] C=1, gamma=0.1 ..................................................\n",
            "[CV] ...................... C=1, gamma=0.1, score=0.665, total=   0.0s\n",
            "[CV] C=1, gamma=1 ....................................................\n",
            "[CV] ........................ C=1, gamma=1, score=0.502, total=   0.0s\n",
            "[CV] C=1, gamma=1 ....................................................\n",
            "[CV] ........................ C=1, gamma=1, score=0.758, total=   0.0s\n",
            "[CV] C=1, gamma=1 ....................................................\n",
            "[CV] ........................ C=1, gamma=1, score=0.838, total=   0.0s\n",
            "[CV] C=1, gamma=1 ....................................................\n",
            "[CV] ........................ C=1, gamma=1, score=0.702, total=   0.0s\n",
            "[CV] C=1, gamma=1 ....................................................\n",
            "[CV] ........................ C=1, gamma=1, score=0.736, total=   0.0s\n",
            "[CV] C=10, gamma=0.001 ...............................................\n",
            "[CV] ................... C=10, gamma=0.001, score=0.433, total=   0.0s\n",
            "[CV] C=10, gamma=0.001 ...............................................\n",
            "[CV] ................... C=10, gamma=0.001, score=0.511, total=   0.0s\n",
            "[CV] C=10, gamma=0.001 ...............................................\n",
            "[CV] ................... C=10, gamma=0.001, score=0.698, total=   0.0s\n",
            "[CV] C=10, gamma=0.001 ...............................................\n",
            "[CV] ................... C=10, gamma=0.001, score=0.561, total=   0.0s\n",
            "[CV] C=10, gamma=0.001 ...............................................\n",
            "[CV] ................... C=10, gamma=0.001, score=0.657, total=   0.0s\n",
            "[CV] C=10, gamma=0.01 ................................................\n",
            "[CV] .................... C=10, gamma=0.01, score=0.176, total=   0.0s\n",
            "[CV] C=10, gamma=0.01 ................................................\n",
            "[CV] .................... C=10, gamma=0.01, score=0.577, total=   0.0s\n",
            "[CV] C=10, gamma=0.01 ................................................\n",
            "[CV] .................... C=10, gamma=0.01, score=0.757, total=   0.0s\n",
            "[CV] C=10, gamma=0.01 ................................................\n",
            "[CV] .................... C=10, gamma=0.01, score=0.597, total=   0.0s\n",
            "[CV] C=10, gamma=0.01 ................................................\n",
            "[CV] .................... C=10, gamma=0.01, score=0.664, total=   0.0s\n",
            "[CV] C=10, gamma=0.1 .................................................\n",
            "[CV] ..................... C=10, gamma=0.1, score=0.394, total=   0.0s\n",
            "[CV] C=10, gamma=0.1 .................................................\n",
            "[CV] ..................... C=10, gamma=0.1, score=0.683, total=   0.0s\n",
            "[CV] C=10, gamma=0.1 .................................................\n",
            "[CV] ..................... C=10, gamma=0.1, score=0.791, total=   0.0s\n",
            "[CV] C=10, gamma=0.1 .................................................\n",
            "[CV] ..................... C=10, gamma=0.1, score=0.628, total=   0.0s\n",
            "[CV] C=10, gamma=0.1 .................................................\n",
            "[CV] ..................... C=10, gamma=0.1, score=0.644, total=   0.0s\n",
            "[CV] C=10, gamma=1 ...................................................\n",
            "[CV] ....................... C=10, gamma=1, score=0.624, total=   0.0s\n",
            "[CV] C=10, gamma=1 ...................................................\n",
            "[CV] ....................... C=10, gamma=1, score=0.825, total=   0.0s\n",
            "[CV] C=10, gamma=1 ...................................................\n",
            "[CV] ....................... C=10, gamma=1, score=0.847, total=   0.0s\n",
            "[CV] C=10, gamma=1 ...................................................\n",
            "[CV] ....................... C=10, gamma=1, score=0.739, total=   0.0s\n",
            "[CV] C=10, gamma=1 ...................................................\n",
            "[CV] ....................... C=10, gamma=1, score=0.733, total=   0.0s\n"
          ],
          "name": "stdout"
        },
        {
          "output_type": "stream",
          "text": [
            "[Parallel(n_jobs=1)]: Using backend SequentialBackend with 1 concurrent workers.\n",
            "[Parallel(n_jobs=1)]: Done   1 out of   1 | elapsed:    0.0s remaining:    0.0s\n",
            "[Parallel(n_jobs=1)]: Done   2 out of   2 | elapsed:    0.0s remaining:    0.0s\n",
            "[Parallel(n_jobs=1)]: Done 100 out of 100 | elapsed:    0.2s finished\n"
          ],
          "name": "stderr"
        },
        {
          "output_type": "execute_result",
          "data": {
            "text/plain": [
              "GridSearchCV(cv=KFold(n_splits=5, random_state=None, shuffle=True),\n",
              "             error_score=nan,\n",
              "             estimator=SVR(C=1.0, cache_size=200, coef0=0.0, degree=3,\n",
              "                           epsilon=0.1, gamma='scale', kernel='rbf',\n",
              "                           max_iter=-1, shrinking=True, tol=0.001,\n",
              "                           verbose=False),\n",
              "             iid='deprecated', n_jobs=None,\n",
              "             param_grid={'C': [0.001, 0.01, 0.1, 1, 10],\n",
              "                         'gamma': [0.001, 0.01, 0.1, 1]},\n",
              "             pre_dispatch='2*n_jobs', refit=True, return_train_score=False,\n",
              "             scoring=None, verbose=3)"
            ]
          },
          "metadata": {
            "tags": []
          },
          "execution_count": 6
        }
      ]
    },
    {
      "cell_type": "markdown",
      "metadata": {
        "id": "hPMsyyu2B8od",
        "colab_type": "text"
      },
      "source": [
        "\n",
        "\n",
        "Internamente, ``fit`` hace algo más complicado de lo que hemos visto hasta ahora.\n",
        "\n",
        "1. Primero realiza una cross-validación con los datos de entrada para encontrar la mejor combinación de parámetros.\n",
        "2. Luego, una vez tiene los mejores parámetros, entrena un modelo con todos los datos de entrada (sin cross-validación) de manera que pueda devolver el mejor modelo ya entrenado.\n",
        "\n",
        "Ahora vamos a ver las predicciones del modelo:"
      ]
    },
    {
      "cell_type": "code",
      "metadata": {
        "id": "utVV0BXTB8oi",
        "colab_type": "code",
        "outputId": "8903443f-36c3-4de1-ec5b-ce2e61a388d9",
        "colab": {
          "base_uri": "https://localhost:8080/",
          "height": 380
        }
      },
      "source": [
        "grid.predict(X)"
      ],
      "execution_count": 0,
      "outputs": [
        {
          "output_type": "execute_result",
          "data": {
            "text/plain": [
              "array([-1.79762875, -1.74054091, -1.71412904, -1.72272347, -1.76880247,\n",
              "       -1.8527208 , -1.97255382, -2.12407501, -2.30087676, -2.49463429,\n",
              "       -2.695503  , -2.89262935, -3.07474705, -3.23082299, -3.35071314,\n",
              "       -3.42578612, -3.44947391, -3.41771237, -3.32924127, -3.18574205,\n",
              "       -2.9918017 , -2.75470244, -2.48404785, -2.19124658, -1.88888388,\n",
              "       -1.59001819, -1.30744475, -1.05297034, -0.8367425 , -0.66667333,\n",
              "       -0.54799235, -0.4829551 , -0.4707249 , -0.50743515, -0.58642852,\n",
              "       -0.69865919, -0.83323456, -0.97806438, -1.12057877, -1.24847261,\n",
              "       -1.35043139, -1.41679516, -1.44012026, -1.41560488, -1.3413525 ,\n",
              "       -1.21845724, -1.05090633, -0.84530623, -0.61045003, -0.35675398,\n",
              "       -0.09559933,  0.16137852,  0.40300817,  0.61926205,  0.80185531,\n",
              "        0.94472644,  1.04437082,  1.10000798,  1.11357463,  1.08954695,\n",
              "        1.03460678,  0.95717608,  0.86685224,  0.7737823 ,  0.68801751,\n",
              "        0.61888941,  0.57444669,  0.56098656,  0.58270777,  0.64150352,\n",
              "        0.73690334,  0.86616306,  1.02449275,  1.20540425,  1.40115266,\n",
              "        1.60324152,  1.80295801,  1.99190412,  2.16249073,  2.3083654 ,\n",
              "        2.42474939,  2.50866621,  2.55905134,  2.57674055,  2.56434191,\n",
              "        2.52600389,  2.46709789,  2.39383845,  2.31286721,  2.23082834,\n",
              "        2.15396216,  2.0877418 ,  2.03657355,  2.00357681,  1.99045342,\n",
              "        1.99745004,  2.02341108,  2.06591373,  2.12147209,  2.18579347])"
            ]
          },
          "metadata": {
            "tags": []
          },
          "execution_count": 7
        }
      ]
    },
    {
      "cell_type": "markdown",
      "metadata": {
        "id": "JuVT1X8QB8o3",
        "colab_type": "text"
      },
      "source": [
        "\n",
        "\n",
        "También es posible ver cual ha sido el mejor score y la combinación de parámetros que han llevado a él:"
      ]
    },
    {
      "cell_type": "code",
      "metadata": {
        "id": "ic9w5649B8o6",
        "colab_type": "code",
        "outputId": "f9f7509f-ef22-473e-f7a4-39dc336ec349",
        "colab": {
          "base_uri": "https://localhost:8080/",
          "height": 35
        }
      },
      "source": [
        "print(grid.best_score_)"
      ],
      "execution_count": 0,
      "outputs": [
        {
          "output_type": "stream",
          "text": [
            "0.7534702100457242\n"
          ],
          "name": "stdout"
        }
      ]
    },
    {
      "cell_type": "code",
      "metadata": {
        "id": "2YWnk5zgB8pG",
        "colab_type": "code",
        "outputId": "cd3817a1-8a03-474b-c42a-c3f661823665",
        "colab": {
          "base_uri": "https://localhost:8080/",
          "height": 35
        }
      },
      "source": [
        "print(grid.best_params_)"
      ],
      "execution_count": 0,
      "outputs": [
        {
          "output_type": "stream",
          "text": [
            "{'C': 10, 'gamma': 1}\n"
          ],
          "name": "stdout"
        }
      ]
    },
    {
      "cell_type": "code",
      "metadata": {
        "id": "uKJMGbC3lD3Q",
        "colab_type": "code",
        "outputId": "f5288fca-dc33-43d6-b784-014d2a555680",
        "colab": {
          "base_uri": "https://localhost:8080/",
          "height": 523
        }
      },
      "source": [
        "print('Type:',type(grid.cv_results_))\n",
        "print(grid.cv_results_.keys())\n",
        "\n",
        "import pandas as pd\n",
        "cv_results = pd.DataFrame(grid.cv_results_)\n",
        "cv_results.head()"
      ],
      "execution_count": 0,
      "outputs": [
        {
          "output_type": "stream",
          "text": [
            "Type: <class 'dict'>\n",
            "dict_keys(['mean_fit_time', 'std_fit_time', 'mean_score_time', 'std_score_time', 'param_C', 'param_gamma', 'params', 'split0_test_score', 'split1_test_score', 'split2_test_score', 'split3_test_score', 'split4_test_score', 'mean_test_score', 'std_test_score', 'rank_test_score'])\n"
          ],
          "name": "stdout"
        },
        {
          "output_type": "execute_result",
          "data": {
            "text/html": [
              "<div>\n",
              "<style scoped>\n",
              "    .dataframe tbody tr th:only-of-type {\n",
              "        vertical-align: middle;\n",
              "    }\n",
              "\n",
              "    .dataframe tbody tr th {\n",
              "        vertical-align: top;\n",
              "    }\n",
              "\n",
              "    .dataframe thead th {\n",
              "        text-align: right;\n",
              "    }\n",
              "</style>\n",
              "<table border=\"1\" class=\"dataframe\">\n",
              "  <thead>\n",
              "    <tr style=\"text-align: right;\">\n",
              "      <th></th>\n",
              "      <th>mean_fit_time</th>\n",
              "      <th>std_fit_time</th>\n",
              "      <th>mean_score_time</th>\n",
              "      <th>std_score_time</th>\n",
              "      <th>param_C</th>\n",
              "      <th>param_gamma</th>\n",
              "      <th>params</th>\n",
              "      <th>split0_test_score</th>\n",
              "      <th>split1_test_score</th>\n",
              "      <th>split2_test_score</th>\n",
              "      <th>split3_test_score</th>\n",
              "      <th>split4_test_score</th>\n",
              "      <th>mean_test_score</th>\n",
              "      <th>std_test_score</th>\n",
              "      <th>rank_test_score</th>\n",
              "    </tr>\n",
              "  </thead>\n",
              "  <tbody>\n",
              "    <tr>\n",
              "      <th>0</th>\n",
              "      <td>0.000973</td>\n",
              "      <td>0.000265</td>\n",
              "      <td>0.000615</td>\n",
              "      <td>0.000265</td>\n",
              "      <td>0.001</td>\n",
              "      <td>0.001</td>\n",
              "      <td>{'C': 0.001, 'gamma': 0.001}</td>\n",
              "      <td>-0.171320</td>\n",
              "      <td>-0.084806</td>\n",
              "      <td>-0.074139</td>\n",
              "      <td>-0.077736</td>\n",
              "      <td>0.000333</td>\n",
              "      <td>-0.081533</td>\n",
              "      <td>0.054486</td>\n",
              "      <td>20</td>\n",
              "    </tr>\n",
              "    <tr>\n",
              "      <th>1</th>\n",
              "      <td>0.000800</td>\n",
              "      <td>0.000033</td>\n",
              "      <td>0.000484</td>\n",
              "      <td>0.000041</td>\n",
              "      <td>0.001</td>\n",
              "      <td>0.01</td>\n",
              "      <td>{'C': 0.001, 'gamma': 0.01}</td>\n",
              "      <td>-0.167183</td>\n",
              "      <td>-0.082868</td>\n",
              "      <td>-0.070755</td>\n",
              "      <td>-0.074558</td>\n",
              "      <td>0.003061</td>\n",
              "      <td>-0.078461</td>\n",
              "      <td>0.054058</td>\n",
              "      <td>19</td>\n",
              "    </tr>\n",
              "    <tr>\n",
              "      <th>2</th>\n",
              "      <td>0.000828</td>\n",
              "      <td>0.000036</td>\n",
              "      <td>0.000454</td>\n",
              "      <td>0.000014</td>\n",
              "      <td>0.001</td>\n",
              "      <td>0.1</td>\n",
              "      <td>{'C': 0.001, 'gamma': 0.1}</td>\n",
              "      <td>-0.150825</td>\n",
              "      <td>-0.073923</td>\n",
              "      <td>-0.055993</td>\n",
              "      <td>-0.062619</td>\n",
              "      <td>0.015144</td>\n",
              "      <td>-0.065643</td>\n",
              "      <td>0.052827</td>\n",
              "      <td>16</td>\n",
              "    </tr>\n",
              "    <tr>\n",
              "      <th>3</th>\n",
              "      <td>0.000753</td>\n",
              "      <td>0.000013</td>\n",
              "      <td>0.000446</td>\n",
              "      <td>0.000015</td>\n",
              "      <td>0.001</td>\n",
              "      <td>1</td>\n",
              "      <td>{'C': 0.001, 'gamma': 1}</td>\n",
              "      <td>-0.155365</td>\n",
              "      <td>-0.075191</td>\n",
              "      <td>-0.058146</td>\n",
              "      <td>-0.065916</td>\n",
              "      <td>0.013297</td>\n",
              "      <td>-0.068264</td>\n",
              "      <td>0.053656</td>\n",
              "      <td>17</td>\n",
              "    </tr>\n",
              "    <tr>\n",
              "      <th>4</th>\n",
              "      <td>0.000863</td>\n",
              "      <td>0.000058</td>\n",
              "      <td>0.000672</td>\n",
              "      <td>0.000288</td>\n",
              "      <td>0.01</td>\n",
              "      <td>0.001</td>\n",
              "      <td>{'C': 0.01, 'gamma': 0.001}</td>\n",
              "      <td>-0.166703</td>\n",
              "      <td>-0.082677</td>\n",
              "      <td>-0.070409</td>\n",
              "      <td>-0.074221</td>\n",
              "      <td>0.003335</td>\n",
              "      <td>-0.078135</td>\n",
              "      <td>0.053995</td>\n",
              "      <td>18</td>\n",
              "    </tr>\n",
              "  </tbody>\n",
              "</table>\n",
              "</div>"
            ],
            "text/plain": [
              "   mean_fit_time  std_fit_time  ...  std_test_score  rank_test_score\n",
              "0       0.000973      0.000265  ...        0.054486               20\n",
              "1       0.000800      0.000033  ...        0.054058               19\n",
              "2       0.000828      0.000036  ...        0.052827               16\n",
              "3       0.000753      0.000013  ...        0.053656               17\n",
              "4       0.000863      0.000058  ...        0.053995               18\n",
              "\n",
              "[5 rows x 15 columns]"
            ]
          },
          "metadata": {
            "tags": []
          },
          "execution_count": 10
        }
      ]
    },
    {
      "cell_type": "code",
      "metadata": {
        "id": "jKIX5gxZlrfM",
        "colab_type": "code",
        "outputId": "40796f83-49f4-4aed-9543-d8251c191cb3",
        "colab": {
          "base_uri": "https://localhost:8080/",
          "height": 206
        }
      },
      "source": [
        "cv_results_tiny = cv_results[['param_C', 'param_gamma', 'mean_test_score']]\n",
        "cv_results_tiny.sort_values(by='mean_test_score', ascending=False).head()"
      ],
      "execution_count": 0,
      "outputs": [
        {
          "output_type": "execute_result",
          "data": {
            "text/html": [
              "<div>\n",
              "<style scoped>\n",
              "    .dataframe tbody tr th:only-of-type {\n",
              "        vertical-align: middle;\n",
              "    }\n",
              "\n",
              "    .dataframe tbody tr th {\n",
              "        vertical-align: top;\n",
              "    }\n",
              "\n",
              "    .dataframe thead th {\n",
              "        text-align: right;\n",
              "    }\n",
              "</style>\n",
              "<table border=\"1\" class=\"dataframe\">\n",
              "  <thead>\n",
              "    <tr style=\"text-align: right;\">\n",
              "      <th></th>\n",
              "      <th>param_C</th>\n",
              "      <th>param_gamma</th>\n",
              "      <th>mean_test_score</th>\n",
              "    </tr>\n",
              "  </thead>\n",
              "  <tbody>\n",
              "    <tr>\n",
              "      <th>19</th>\n",
              "      <td>10</td>\n",
              "      <td>1</td>\n",
              "      <td>0.753470</td>\n",
              "    </tr>\n",
              "    <tr>\n",
              "      <th>15</th>\n",
              "      <td>1</td>\n",
              "      <td>1</td>\n",
              "      <td>0.707344</td>\n",
              "    </tr>\n",
              "    <tr>\n",
              "      <th>18</th>\n",
              "      <td>10</td>\n",
              "      <td>0.1</td>\n",
              "      <td>0.627820</td>\n",
              "    </tr>\n",
              "    <tr>\n",
              "      <th>14</th>\n",
              "      <td>1</td>\n",
              "      <td>0.1</td>\n",
              "      <td>0.625128</td>\n",
              "    </tr>\n",
              "    <tr>\n",
              "      <th>13</th>\n",
              "      <td>1</td>\n",
              "      <td>0.01</td>\n",
              "      <td>0.578478</td>\n",
              "    </tr>\n",
              "  </tbody>\n",
              "</table>\n",
              "</div>"
            ],
            "text/plain": [
              "   param_C param_gamma  mean_test_score\n",
              "19      10           1         0.753470\n",
              "15       1           1         0.707344\n",
              "18      10         0.1         0.627820\n",
              "14       1         0.1         0.625128\n",
              "13       1        0.01         0.578478"
            ]
          },
          "metadata": {
            "tags": []
          },
          "execution_count": 11
        }
      ]
    },
    {
      "cell_type": "markdown",
      "metadata": {
        "id": "S3uaZgOSB8pP",
        "colab_type": "text"
      },
      "source": [
        "\n",
        "\n",
        "Existe un problema de cara a utilizar este score de cara a evaluar el modelo. Este tipo de evaluaciones puede llevar al llamado error de evaluación de múltiples hipótesis (multiple hipothesis testing error). Este error ocurre cuando compararmos multiples configuraciones de parámetros. En este caso, algunos de ellos es posible que funcionen mejor por simple casualidad y, por tanto, el score obtenido no refleje como generaliza el modelo ante nuevos datos.\n",
        "\n",
        "Por ello, se recomienda separar un test-set de los datos antes de realizar la gúsqueda en *grid*. Este patrón se llama training-validation-test split y es muy común en Machine Learning:"
      ]
    },
    {
      "cell_type": "markdown",
      "metadata": {
        "id": "g4yh86KoB8pU",
        "colab_type": "text"
      },
      "source": [
        "\n",
        "\n",
        "<img src=\"https://scikit-learn.org/stable/_images/grid_search_cross_validation.png\" width=\"75%\">"
      ]
    },
    {
      "cell_type": "markdown",
      "metadata": {
        "id": "yVpTvD9pB8pY",
        "colab_type": "text"
      },
      "source": [
        "\n",
        "\n",
        "Este patrón se consigue muy fácilmente:\n",
        "\n",
        "1. Primero separamos los datos utilizando un ``train_test_split``\n",
        "2. Luego entrenamos utilizando ``GridSearchCV`` sobre los datos de train del split\n",
        "3. Filamente evaluamos utilizando el método ``score`` en el dataset de test del split."
      ]
    },
    {
      "cell_type": "code",
      "metadata": {
        "id": "9oANXNNBB8pb",
        "colab_type": "code",
        "outputId": "ac2853c0-f9ec-44ff-9d35-0163a12edcad",
        "colab": {
          "base_uri": "https://localhost:8080/",
          "height": 1000
        }
      },
      "source": [
        "from sklearn.model_selection import train_test_split\n",
        "X_train, X_test, y_train, y_test = train_test_split(X, y, random_state=1)\n",
        "\n",
        "param_grid = {'C': [0.001, 0.01, 0.1, 1, 10],\n",
        "              'gamma': [0.001, 0.01, 0.1, 1]}\n",
        "cv = KFold(n_splits=10, shuffle=True)\n",
        "\n",
        "grid = GridSearchCV(SVR(), param_grid=param_grid, cv=cv, verbose=3) \n",
        "\n",
        "grid.fit(X_train, y_train)\n",
        "grid.score(X_test, y_test)  #Test Score"
      ],
      "execution_count": 0,
      "outputs": [
        {
          "output_type": "stream",
          "text": [
            "Fitting 10 folds for each of 20 candidates, totalling 200 fits\n",
            "[CV] C=0.001, gamma=0.001 ............................................\n",
            "[CV] ............... C=0.001, gamma=0.001, score=-0.131, total=   0.0s\n",
            "[CV] C=0.001, gamma=0.001 ............................................\n",
            "[CV] ............... C=0.001, gamma=0.001, score=-0.000, total=   0.0s\n",
            "[CV] C=0.001, gamma=0.001 ............................................\n",
            "[CV] ............... C=0.001, gamma=0.001, score=-0.989, total=   0.0s\n",
            "[CV] C=0.001, gamma=0.001 ............................................\n",
            "[CV] ............... C=0.001, gamma=0.001, score=-0.206, total=   0.0s\n",
            "[CV] C=0.001, gamma=0.001 ............................................\n",
            "[CV] ............... C=0.001, gamma=0.001, score=-1.698, total=   0.0s\n",
            "[CV] C=0.001, gamma=0.001 ............................................\n",
            "[CV] ............... C=0.001, gamma=0.001, score=-0.042, total=   0.0s\n",
            "[CV] C=0.001, gamma=0.001 ............................................\n",
            "[CV] ............... C=0.001, gamma=0.001, score=-0.002, total=   0.0s\n",
            "[CV] C=0.001, gamma=0.001 ............................................\n",
            "[CV] ............... C=0.001, gamma=0.001, score=-0.079, total=   0.0s\n",
            "[CV] C=0.001, gamma=0.001 ............................................\n",
            "[CV] ............... C=0.001, gamma=0.001, score=-0.123, total=   0.0s\n",
            "[CV] C=0.001, gamma=0.001 ............................................\n",
            "[CV] ............... C=0.001, gamma=0.001, score=-0.002, total=   0.0s\n",
            "[CV] C=0.001, gamma=0.01 .............................................\n",
            "[CV] ................ C=0.001, gamma=0.01, score=-0.129, total=   0.0s\n",
            "[CV] C=0.001, gamma=0.01 .............................................\n",
            "[CV] ................. C=0.001, gamma=0.01, score=0.003, total=   0.0s\n",
            "[CV] C=0.001, gamma=0.01 .............................................\n",
            "[CV] ................ C=0.001, gamma=0.01, score=-0.987, total=   0.0s\n",
            "[CV] C=0.001, gamma=0.01 .............................................\n",
            "[CV] ................ C=0.001, gamma=0.01, score=-0.204, total=   0.0s\n",
            "[CV] C=0.001, gamma=0.01 .............................................\n",
            "[CV] ................ C=0.001, gamma=0.01, score=-1.692, total=   0.0s\n",
            "[CV] C=0.001, gamma=0.01 .............................................\n",
            "[CV] ................ C=0.001, gamma=0.01, score=-0.040, total=   0.0s\n",
            "[CV] C=0.001, gamma=0.01 .............................................\n",
            "[CV] ................. C=0.001, gamma=0.01, score=0.001, total=   0.0s\n",
            "[CV] C=0.001, gamma=0.01 .............................................\n",
            "[CV] ................ C=0.001, gamma=0.01, score=-0.077, total=   0.0s\n",
            "[CV] C=0.001, gamma=0.01 .............................................\n",
            "[CV] ................ C=0.001, gamma=0.01, score=-0.121, total=   0.0s\n",
            "[CV] C=0.001, gamma=0.01 .............................................\n",
            "[CV] ................. C=0.001, gamma=0.01, score=0.000, total=   0.0s\n",
            "[CV] C=0.001, gamma=0.1 ..............................................\n",
            "[CV] ................. C=0.001, gamma=0.1, score=-0.121, total=   0.0s\n",
            "[CV] C=0.001, gamma=0.1 ..............................................\n",
            "[CV] .................. C=0.001, gamma=0.1, score=0.014, total=   0.0s\n",
            "[CV] C=0.001, gamma=0.1 ..............................................\n",
            "[CV] ................. C=0.001, gamma=0.1, score=-0.976, total=   0.0s\n",
            "[CV] C=0.001, gamma=0.1 ..............................................\n",
            "[CV] ................. C=0.001, gamma=0.1, score=-0.195, total=   0.0s\n",
            "[CV] C=0.001, gamma=0.1 ..............................................\n",
            "[CV] ................. C=0.001, gamma=0.1, score=-1.662, total=   0.0s\n",
            "[CV] C=0.001, gamma=0.1 ..............................................\n",
            "[CV] ................. C=0.001, gamma=0.1, score=-0.029, total=   0.0s\n",
            "[CV] C=0.001, gamma=0.1 ..............................................\n",
            "[CV] .................. C=0.001, gamma=0.1, score=0.012, total=   0.0s\n",
            "[CV] C=0.001, gamma=0.1 ..............................................\n",
            "[CV] ................. C=0.001, gamma=0.1, score=-0.067, total=   0.0s\n",
            "[CV] C=0.001, gamma=0.1 ..............................................\n",
            "[CV] ................. C=0.001, gamma=0.1, score=-0.112, total=   0.0s\n",
            "[CV] C=0.001, gamma=0.1 ..............................................\n",
            "[CV] .................. C=0.001, gamma=0.1, score=0.007, total=   0.0s\n",
            "[CV] C=0.001, gamma=1 ................................................\n",
            "[CV] ................... C=0.001, gamma=1, score=-0.123, total=   0.0s\n",
            "[CV] C=0.001, gamma=1 ................................................\n",
            "[CV] .................... C=0.001, gamma=1, score=0.010, total=   0.0s\n",
            "[CV] C=0.001, gamma=1 ................................................\n",
            "[CV] ................... C=0.001, gamma=1, score=-0.978, total=   0.0s\n",
            "[CV] C=0.001, gamma=1 ................................................\n",
            "[CV] ................... C=0.001, gamma=1, score=-0.195, total=   0.0s\n",
            "[CV] C=0.001, gamma=1 ................................................\n",
            "[CV] ................... C=0.001, gamma=1, score=-1.662, total=   0.0s\n",
            "[CV] C=0.001, gamma=1 ................................................\n",
            "[CV] ................... C=0.001, gamma=1, score=-0.029, total=   0.0s\n",
            "[CV] C=0.001, gamma=1 ................................................\n",
            "[CV] .................... C=0.001, gamma=1, score=0.008, total=   0.0s\n",
            "[CV] C=0.001, gamma=1 ................................................\n",
            "[CV] ................... C=0.001, gamma=1, score=-0.068, total=   0.0s\n",
            "[CV] C=0.001, gamma=1 ................................................\n",
            "[CV] ................... C=0.001, gamma=1, score=-0.114, total=   0.0s\n",
            "[CV] C=0.001, gamma=1 ................................................\n",
            "[CV] .................... C=0.001, gamma=1, score=0.005, total=   0.0s\n",
            "[CV] C=0.01, gamma=0.001 .............................................\n",
            "[CV] ................ C=0.01, gamma=0.001, score=-0.129, total=   0.0s\n",
            "[CV] C=0.01, gamma=0.001 .............................................\n",
            "[CV] ................. C=0.01, gamma=0.001, score=0.003, total=   0.0s\n",
            "[CV] C=0.01, gamma=0.001 .............................................\n",
            "[CV] ................ C=0.01, gamma=0.001, score=-0.986, total=   0.0s\n",
            "[CV] C=0.01, gamma=0.001 .............................................\n",
            "[CV] ................ C=0.01, gamma=0.001, score=-0.204, total=   0.0s\n",
            "[CV] C=0.01, gamma=0.001 .............................................\n",
            "[CV] ................ C=0.01, gamma=0.001, score=-1.692, total=   0.0s\n",
            "[CV] C=0.01, gamma=0.001 .............................................\n",
            "[CV] ................ C=0.01, gamma=0.001, score=-0.040, total=   0.0s\n",
            "[CV] C=0.01, gamma=0.001 .............................................\n",
            "[CV] ................. C=0.01, gamma=0.001, score=0.001, total=   0.0s\n",
            "[CV] C=0.01, gamma=0.001 .............................................\n",
            "[CV] ................ C=0.01, gamma=0.001, score=-0.077, total=   0.0s\n",
            "[CV] C=0.01, gamma=0.001 .............................................\n",
            "[CV] ................ C=0.01, gamma=0.001, score=-0.121, total=   0.0s\n",
            "[CV] C=0.01, gamma=0.001 .............................................\n",
            "[CV] ................. C=0.01, gamma=0.001, score=0.000, total=   0.0s\n",
            "[CV] C=0.01, gamma=0.01 ..............................................\n",
            "[CV] ................. C=0.01, gamma=0.01, score=-0.109, total=   0.0s\n",
            "[CV] C=0.01, gamma=0.01 ..............................................\n",
            "[CV] .................. C=0.01, gamma=0.01, score=0.030, total=   0.0s\n",
            "[CV] C=0.01, gamma=0.01 ..............................................\n",
            "[CV] ................. C=0.01, gamma=0.01, score=-0.963, total=   0.0s\n",
            "[CV] C=0.01, gamma=0.01 ..............................................\n",
            "[CV] ................. C=0.01, gamma=0.01, score=-0.190, total=   0.0s\n",
            "[CV] C=0.01, gamma=0.01 ..............................................\n",
            "[CV] ................. C=0.01, gamma=0.01, score=-1.629, total=   0.0s\n",
            "[CV] C=0.01, gamma=0.01 ..............................................\n",
            "[CV] ................. C=0.01, gamma=0.01, score=-0.020, total=   0.0s\n",
            "[CV] C=0.01, gamma=0.01 ..............................................\n",
            "[CV] .................. C=0.01, gamma=0.01, score=0.030, total=   0.0s\n",
            "[CV] C=0.01, gamma=0.01 ..............................................\n",
            "[CV] ................. C=0.01, gamma=0.01, score=-0.054, total=   0.0s\n",
            "[CV] C=0.01, gamma=0.01 ..............................................\n",
            "[CV] ................. C=0.01, gamma=0.01, score=-0.099, total=   0.0s\n",
            "[CV] C=0.01, gamma=0.01 ..............................................\n",
            "[CV] .................. C=0.01, gamma=0.01, score=0.018, total=   0.0s\n",
            "[CV] C=0.01, gamma=0.1 ...............................................\n",
            "[CV] .................. C=0.01, gamma=0.1, score=-0.049, total=   0.0s\n",
            "[CV] C=0.01, gamma=0.1 ...............................................\n",
            "[CV] ................... C=0.01, gamma=0.1, score=0.130, total=   0.0s\n",
            "[CV] C=0.01, gamma=0.1 ...............................................\n",
            "[CV] .................. C=0.01, gamma=0.1, score=-0.826, total=   0.0s\n",
            "[CV] C=0.01, gamma=0.1 ...............................................\n",
            "[CV] .................. C=0.01, gamma=0.1, score=-0.151, total=   0.0s\n",
            "[CV] C=0.01, gamma=0.1 ...............................................\n",
            "[CV] .................. C=0.01, gamma=0.1, score=-1.439, total=   0.0s\n",
            "[CV] C=0.01, gamma=0.1 ...............................................\n",
            "[CV] ................... C=0.01, gamma=0.1, score=0.086, total=   0.0s\n",
            "[CV] C=0.01, gamma=0.1 ...............................................\n",
            "[CV] ................... C=0.01, gamma=0.1, score=0.121, total=   0.0s\n",
            "[CV] C=0.01, gamma=0.1 ...............................................\n",
            "[CV] ................... C=0.01, gamma=0.1, score=0.062, total=   0.0s\n",
            "[CV] C=0.01, gamma=0.1 ...............................................\n",
            "[CV] ................... C=0.01, gamma=0.1, score=0.011, total=   0.0s\n",
            "[CV] C=0.01, gamma=0.1 ...............................................\n",
            "[CV] ................... C=0.01, gamma=0.1, score=0.075, total=   0.0s\n",
            "[CV] C=0.01, gamma=1 .................................................\n",
            "[CV] .................... C=0.01, gamma=1, score=-0.050, total=   0.0s\n",
            "[CV] C=0.01, gamma=1 .................................................\n",
            "[CV] ..................... C=0.01, gamma=1, score=0.098, total=   0.0s\n",
            "[CV] C=0.01, gamma=1 .................................................\n",
            "[CV] .................... C=0.01, gamma=1, score=-0.843, total=   0.0s\n",
            "[CV] C=0.01, gamma=1 .................................................\n",
            "[CV] .................... C=0.01, gamma=1, score=-0.133, total=   0.0s\n",
            "[CV] C=0.01, gamma=1 .................................................\n",
            "[CV] .................... C=0.01, gamma=1, score=-1.392, total=   0.0s\n",
            "[CV] C=0.01, gamma=1 .................................................\n",
            "[CV] ..................... C=0.01, gamma=1, score=0.088, total=   0.0s\n",
            "[CV] C=0.01, gamma=1 .................................................\n",
            "[CV] ..................... C=0.01, gamma=1, score=0.092, total=   0.0s\n",
            "[CV] C=0.01, gamma=1 .................................................\n",
            "[CV] ..................... C=0.01, gamma=1, score=0.050, total=   0.0s\n",
            "[CV] C=0.01, gamma=1 .................................................\n",
            "[CV] .................... C=0.01, gamma=1, score=-0.003, total=   0.0s\n",
            "[CV] C=0.01, gamma=1 .................................................\n",
            "[CV] ..................... C=0.01, gamma=1, score=0.059, total=   0.0s\n",
            "[CV] C=0.1, gamma=0.001 ..............................................\n",
            "[CV] ................. C=0.1, gamma=0.001, score=-0.106, total=   0.0s\n",
            "[CV] C=0.1, gamma=0.001 ..............................................\n",
            "[CV] .................. C=0.1, gamma=0.001, score=0.033, total=   0.0s\n",
            "[CV] C=0.1, gamma=0.001 ..............................................\n",
            "[CV] ................. C=0.1, gamma=0.001, score=-0.961, total=   0.0s\n",
            "[CV] C=0.1, gamma=0.001 ..............................................\n",
            "[CV] ................. C=0.1, gamma=0.001, score=-0.190, total=   0.0s\n",
            "[CV] C=0.1, gamma=0.001 ..............................................\n",
            "[CV] ................. C=0.1, gamma=0.001, score=-1.624, total=   0.0s\n",
            "[CV] C=0.1, gamma=0.001 ..............................................\n",
            "[CV] ................. C=0.1, gamma=0.001, score=-0.019, total=   0.0s\n",
            "[CV] C=0.1, gamma=0.001 ..............................................\n",
            "[CV] .................. C=0.1, gamma=0.001, score=0.033, total=   0.0s\n",
            "[CV] C=0.1, gamma=0.001 ..............................................\n",
            "[CV] ................. C=0.1, gamma=0.001, score=-0.051, total=   0.0s\n",
            "[CV] C=0.1, gamma=0.001 ..............................................\n",
            "[CV] ................. C=0.1, gamma=0.001, score=-0.097, total=   0.0s\n",
            "[CV] C=0.1, gamma=0.001 ..............................................\n",
            "[CV] .................. C=0.1, gamma=0.001, score=0.020, total=   0.0s\n",
            "[CV] C=0.1, gamma=0.01 ...............................................\n",
            "[CV] ................... C=0.1, gamma=0.01, score=0.081, total=   0.0s\n",
            "[CV] C=0.1, gamma=0.01 ...............................................\n",
            "[CV] ................... C=0.1, gamma=0.01, score=0.252, total=   0.0s\n",
            "[CV] C=0.1, gamma=0.01 ...............................................\n",
            "[CV] .................. C=0.1, gamma=0.01, score=-0.674, total=   0.0s\n",
            "[CV] C=0.1, gamma=0.01 ...............................................\n",
            "[CV] .................. C=0.1, gamma=0.01, score=-0.074, total=   0.0s\n",
            "[CV] C=0.1, gamma=0.01 ...............................................\n",
            "[CV] .................. C=0.1, gamma=0.01, score=-1.330, total=   0.0s\n",
            "[CV] C=0.1, gamma=0.01 ...............................................\n",
            "[CV] ................... C=0.1, gamma=0.01, score=0.178, total=   0.0s\n",
            "[CV] C=0.1, gamma=0.01 ...............................................\n",
            "[CV] ................... C=0.1, gamma=0.01, score=0.256, total=   0.0s\n",
            "[CV] C=0.1, gamma=0.01 ...............................................\n",
            "[CV] ................... C=0.1, gamma=0.01, score=0.168, total=   0.0s\n",
            "[CV] C=0.1, gamma=0.01 ...............................................\n",
            "[CV] ................... C=0.1, gamma=0.01, score=0.114, total=   0.0s\n",
            "[CV] C=0.1, gamma=0.01 ...............................................\n",
            "[CV] ................... C=0.1, gamma=0.01, score=0.157, total=   0.0s\n",
            "[CV] C=0.1, gamma=0.1 ................................................\n",
            "[CV] .................... C=0.1, gamma=0.1, score=0.464, total=   0.0s\n",
            "[CV] C=0.1, gamma=0.1 ................................................\n",
            "[CV] .................... C=0.1, gamma=0.1, score=0.625, total=   0.0s\n",
            "[CV] C=0.1, gamma=0.1 ................................................\n",
            "[CV] ................... C=0.1, gamma=0.1, score=-0.014, total=   0.0s\n",
            "[CV] C=0.1, gamma=0.1 ................................................\n",
            "[CV] .................... C=0.1, gamma=0.1, score=0.429, total=   0.0s\n",
            "[CV] C=0.1, gamma=0.1 ................................................\n",
            "[CV] ................... C=0.1, gamma=0.1, score=-0.490, total=   0.0s\n",
            "[CV] C=0.1, gamma=0.1 ................................................\n",
            "[CV] .................... C=0.1, gamma=0.1, score=0.623, total=   0.0s\n",
            "[CV] C=0.1, gamma=0.1 ................................................\n",
            "[CV] .................... C=0.1, gamma=0.1, score=0.623, total=   0.0s\n",
            "[CV] C=0.1, gamma=0.1 ................................................\n",
            "[CV] .................... C=0.1, gamma=0.1, score=0.572, total=   0.0s\n",
            "[CV] C=0.1, gamma=0.1 ................................................\n",
            "[CV] .................... C=0.1, gamma=0.1, score=0.487, total=   0.0s\n",
            "[CV] C=0.1, gamma=0.1 ................................................\n",
            "[CV] .................... C=0.1, gamma=0.1, score=0.435, total=   0.0s\n",
            "[CV] C=0.1, gamma=1 ..................................................\n",
            "[CV] ...................... C=0.1, gamma=1, score=0.434, total=   0.0s\n",
            "[CV] C=0.1, gamma=1 ..................................................\n",
            "[CV] ...................... C=0.1, gamma=1, score=0.513, total=   0.0s\n",
            "[CV] C=0.1, gamma=1 ..................................................\n",
            "[CV] ..................... C=0.1, gamma=1, score=-0.022, total=   0.0s\n",
            "[CV] C=0.1, gamma=1 ..................................................\n",
            "[CV] ...................... C=0.1, gamma=1, score=0.437, total=   0.0s\n",
            "[CV] C=0.1, gamma=1 ..................................................\n",
            "[CV] ..................... C=0.1, gamma=1, score=-0.476, total=   0.0s\n",
            "[CV] C=0.1, gamma=1 ..................................................\n",
            "[CV] ...................... C=0.1, gamma=1, score=0.589, total=   0.0s\n",
            "[CV] C=0.1, gamma=1 ..................................................\n",
            "[CV] ...................... C=0.1, gamma=1, score=0.507, total=   0.0s\n",
            "[CV] C=0.1, gamma=1 ..................................................\n",
            "[CV] ...................... C=0.1, gamma=1, score=0.534, total=   0.0s\n",
            "[CV] C=0.1, gamma=1 ..................................................\n",
            "[CV] ...................... C=0.1, gamma=1, score=0.469, total=   0.0s\n",
            "[CV] C=0.1, gamma=1 ..................................................\n",
            "[CV] ...................... C=0.1, gamma=1, score=0.352, total=   0.0s\n",
            "[CV] C=1, gamma=0.001 ................................................\n",
            "[CV] .................... C=1, gamma=0.001, score=0.099, total=   0.0s\n",
            "[CV] C=1, gamma=0.001 ................................................\n",
            "[CV] .................... C=1, gamma=0.001, score=0.274, total=   0.0s\n",
            "[CV] C=1, gamma=0.001 ................................................\n",
            "[CV] ................... C=1, gamma=0.001, score=-0.644, total=   0.0s\n",
            "[CV] C=1, gamma=0.001 ................................................\n"
          ],
          "name": "stdout"
        },
        {
          "output_type": "stream",
          "text": [
            "[Parallel(n_jobs=1)]: Using backend SequentialBackend with 1 concurrent workers.\n",
            "[Parallel(n_jobs=1)]: Done   1 out of   1 | elapsed:    0.0s remaining:    0.0s\n",
            "[Parallel(n_jobs=1)]: Done   2 out of   2 | elapsed:    0.0s remaining:    0.0s\n"
          ],
          "name": "stderr"
        },
        {
          "output_type": "stream",
          "text": [
            "[CV] ................... C=1, gamma=0.001, score=-0.076, total=   0.0s\n",
            "[CV] C=1, gamma=0.001 ................................................\n",
            "[CV] ................... C=1, gamma=0.001, score=-1.334, total=   0.0s\n",
            "[CV] C=1, gamma=0.001 ................................................\n",
            "[CV] .................... C=1, gamma=0.001, score=0.188, total=   0.0s\n",
            "[CV] C=1, gamma=0.001 ................................................\n",
            "[CV] .................... C=1, gamma=0.001, score=0.286, total=   0.0s\n",
            "[CV] C=1, gamma=0.001 ................................................\n",
            "[CV] .................... C=1, gamma=0.001, score=0.180, total=   0.0s\n",
            "[CV] C=1, gamma=0.001 ................................................\n",
            "[CV] .................... C=1, gamma=0.001, score=0.125, total=   0.0s\n",
            "[CV] C=1, gamma=0.001 ................................................\n",
            "[CV] .................... C=1, gamma=0.001, score=0.177, total=   0.0s\n",
            "[CV] C=1, gamma=0.01 .................................................\n",
            "[CV] ..................... C=1, gamma=0.01, score=0.554, total=   0.0s\n",
            "[CV] C=1, gamma=0.01 .................................................\n",
            "[CV] ..................... C=1, gamma=0.01, score=0.764, total=   0.0s\n",
            "[CV] C=1, gamma=0.01 .................................................\n",
            "[CV] ..................... C=1, gamma=0.01, score=0.147, total=   0.0s\n",
            "[CV] C=1, gamma=0.01 .................................................\n",
            "[CV] ..................... C=1, gamma=0.01, score=0.485, total=   0.0s\n",
            "[CV] C=1, gamma=0.01 .................................................\n",
            "[CV] .................... C=1, gamma=0.01, score=-0.556, total=   0.0s\n",
            "[CV] C=1, gamma=0.01 .................................................\n",
            "[CV] ..................... C=1, gamma=0.01, score=0.675, total=   0.0s\n",
            "[CV] C=1, gamma=0.01 .................................................\n",
            "[CV] ..................... C=1, gamma=0.01, score=0.720, total=   0.0s\n",
            "[CV] C=1, gamma=0.01 .................................................\n",
            "[CV] ..................... C=1, gamma=0.01, score=0.680, total=   0.0s\n",
            "[CV] C=1, gamma=0.01 .................................................\n",
            "[CV] ..................... C=1, gamma=0.01, score=0.621, total=   0.0s\n",
            "[CV] C=1, gamma=0.01 .................................................\n",
            "[CV] ..................... C=1, gamma=0.01, score=0.540, total=   0.0s\n",
            "[CV] C=1, gamma=0.1 ..................................................\n",
            "[CV] ...................... C=1, gamma=0.1, score=0.685, total=   0.0s\n",
            "[CV] C=1, gamma=0.1 ..................................................\n",
            "[CV] ...................... C=1, gamma=0.1, score=0.711, total=   0.0s\n",
            "[CV] C=1, gamma=0.1 ..................................................\n",
            "[CV] ...................... C=1, gamma=0.1, score=0.388, total=   0.0s\n",
            "[CV] C=1, gamma=0.1 ..................................................\n",
            "[CV] ...................... C=1, gamma=0.1, score=0.709, total=   0.0s\n",
            "[CV] C=1, gamma=0.1 ..................................................\n",
            "[CV] ..................... C=1, gamma=0.1, score=-0.508, total=   0.0s\n",
            "[CV] C=1, gamma=0.1 ..................................................\n",
            "[CV] ...................... C=1, gamma=0.1, score=0.653, total=   0.0s\n",
            "[CV] C=1, gamma=0.1 ..................................................\n",
            "[CV] ...................... C=1, gamma=0.1, score=0.698, total=   0.0s\n",
            "[CV] C=1, gamma=0.1 ..................................................\n",
            "[CV] ...................... C=1, gamma=0.1, score=0.815, total=   0.0s\n",
            "[CV] C=1, gamma=0.1 ..................................................\n",
            "[CV] ...................... C=1, gamma=0.1, score=0.742, total=   0.0s\n",
            "[CV] C=1, gamma=0.1 ..................................................\n",
            "[CV] ...................... C=1, gamma=0.1, score=0.662, total=   0.0s\n",
            "[CV] C=1, gamma=1 ....................................................\n",
            "[CV] ........................ C=1, gamma=1, score=0.755, total=   0.0s\n",
            "[CV] C=1, gamma=1 ....................................................\n",
            "[CV] ........................ C=1, gamma=1, score=0.710, total=   0.0s\n",
            "[CV] C=1, gamma=1 ....................................................\n",
            "[CV] ........................ C=1, gamma=1, score=0.500, total=   0.0s\n",
            "[CV] C=1, gamma=1 ....................................................\n",
            "[CV] ........................ C=1, gamma=1, score=0.751, total=   0.0s\n",
            "[CV] C=1, gamma=1 ....................................................\n",
            "[CV] ....................... C=1, gamma=1, score=-0.334, total=   0.0s\n",
            "[CV] C=1, gamma=1 ....................................................\n",
            "[CV] ........................ C=1, gamma=1, score=0.712, total=   0.0s\n",
            "[CV] C=1, gamma=1 ....................................................\n",
            "[CV] ........................ C=1, gamma=1, score=0.658, total=   0.0s\n",
            "[CV] C=1, gamma=1 ....................................................\n",
            "[CV] ........................ C=1, gamma=1, score=0.775, total=   0.0s\n",
            "[CV] C=1, gamma=1 ....................................................\n",
            "[CV] ........................ C=1, gamma=1, score=0.804, total=   0.0s\n",
            "[CV] C=1, gamma=1 ....................................................\n",
            "[CV] ........................ C=1, gamma=1, score=0.635, total=   0.0s\n",
            "[CV] C=10, gamma=0.001 ...............................................\n",
            "[CV] ................... C=10, gamma=0.001, score=0.542, total=   0.0s\n",
            "[CV] C=10, gamma=0.001 ...............................................\n",
            "[CV] ................... C=10, gamma=0.001, score=0.760, total=   0.0s\n",
            "[CV] C=10, gamma=0.001 ...............................................\n",
            "[CV] ................... C=10, gamma=0.001, score=0.152, total=   0.0s\n",
            "[CV] C=10, gamma=0.001 ...............................................\n",
            "[CV] ................... C=10, gamma=0.001, score=0.481, total=   0.0s\n",
            "[CV] C=10, gamma=0.001 ...............................................\n",
            "[CV] .................. C=10, gamma=0.001, score=-0.551, total=   0.0s\n",
            "[CV] C=10, gamma=0.001 ...............................................\n",
            "[CV] ................... C=10, gamma=0.001, score=0.667, total=   0.0s\n",
            "[CV] C=10, gamma=0.001 ...............................................\n",
            "[CV] ................... C=10, gamma=0.001, score=0.715, total=   0.0s\n",
            "[CV] C=10, gamma=0.001 ...............................................\n",
            "[CV] ................... C=10, gamma=0.001, score=0.677, total=   0.0s\n",
            "[CV] C=10, gamma=0.001 ...............................................\n",
            "[CV] ................... C=10, gamma=0.001, score=0.629, total=   0.0s\n",
            "[CV] C=10, gamma=0.001 ...............................................\n",
            "[CV] ................... C=10, gamma=0.001, score=0.532, total=   0.0s\n",
            "[CV] C=10, gamma=0.01 ................................................\n",
            "[CV] .................... C=10, gamma=0.01, score=0.579, total=   0.0s\n",
            "[CV] C=10, gamma=0.01 ................................................\n",
            "[CV] .................... C=10, gamma=0.01, score=0.748, total=   0.0s\n",
            "[CV] C=10, gamma=0.01 ................................................\n",
            "[CV] .................... C=10, gamma=0.01, score=0.276, total=   0.0s\n",
            "[CV] C=10, gamma=0.01 ................................................\n",
            "[CV] .................... C=10, gamma=0.01, score=0.557, total=   0.0s\n",
            "[CV] C=10, gamma=0.01 ................................................\n",
            "[CV] ................... C=10, gamma=0.01, score=-0.670, total=   0.0s\n",
            "[CV] C=10, gamma=0.01 ................................................\n",
            "[CV] .................... C=10, gamma=0.01, score=0.681, total=   0.0s\n",
            "[CV] C=10, gamma=0.01 ................................................\n",
            "[CV] .................... C=10, gamma=0.01, score=0.657, total=   0.0s\n",
            "[CV] C=10, gamma=0.01 ................................................\n",
            "[CV] .................... C=10, gamma=0.01, score=0.748, total=   0.0s\n",
            "[CV] C=10, gamma=0.01 ................................................\n",
            "[CV] .................... C=10, gamma=0.01, score=0.696, total=   0.0s\n",
            "[CV] C=10, gamma=0.01 ................................................\n",
            "[CV] .................... C=10, gamma=0.01, score=0.577, total=   0.0s\n",
            "[CV] C=10, gamma=0.1 .................................................\n",
            "[CV] ..................... C=10, gamma=0.1, score=0.707, total=   0.0s\n",
            "[CV] C=10, gamma=0.1 .................................................\n",
            "[CV] ..................... C=10, gamma=0.1, score=0.687, total=   0.0s\n",
            "[CV] C=10, gamma=0.1 .................................................\n",
            "[CV] ..................... C=10, gamma=0.1, score=0.414, total=   0.0s\n",
            "[CV] C=10, gamma=0.1 .................................................\n",
            "[CV] ..................... C=10, gamma=0.1, score=0.751, total=   0.0s\n",
            "[CV] C=10, gamma=0.1 .................................................\n",
            "[CV] .................... C=10, gamma=0.1, score=-0.544, total=   0.0s\n",
            "[CV] C=10, gamma=0.1 .................................................\n",
            "[CV] ..................... C=10, gamma=0.1, score=0.598, total=   0.0s\n",
            "[CV] C=10, gamma=0.1 .................................................\n",
            "[CV] ..................... C=10, gamma=0.1, score=0.663, total=   0.0s\n",
            "[CV] C=10, gamma=0.1 .................................................\n",
            "[CV] ..................... C=10, gamma=0.1, score=0.829, total=   0.0s\n",
            "[CV] C=10, gamma=0.1 .................................................\n",
            "[CV] ..................... C=10, gamma=0.1, score=0.744, total=   0.0s\n",
            "[CV] C=10, gamma=0.1 .................................................\n",
            "[CV] ..................... C=10, gamma=0.1, score=0.643, total=   0.0s\n",
            "[CV] C=10, gamma=1 ...................................................\n",
            "[CV] ....................... C=10, gamma=1, score=0.806, total=   0.0s\n",
            "[CV] C=10, gamma=1 ...................................................\n",
            "[CV] ....................... C=10, gamma=1, score=0.792, total=   0.0s\n",
            "[CV] C=10, gamma=1 ...................................................\n",
            "[CV] ....................... C=10, gamma=1, score=0.658, total=   0.0s\n",
            "[CV] C=10, gamma=1 ...................................................\n",
            "[CV] ....................... C=10, gamma=1, score=0.876, total=   0.0s\n",
            "[CV] C=10, gamma=1 ...................................................\n",
            "[CV] ...................... C=10, gamma=1, score=-0.070, total=   0.0s\n",
            "[CV] C=10, gamma=1 ...................................................\n",
            "[CV] ....................... C=10, gamma=1, score=0.726, total=   0.0s\n",
            "[CV] C=10, gamma=1 ...................................................\n",
            "[CV] ....................... C=10, gamma=1, score=0.531, total=   0.0s\n",
            "[CV] C=10, gamma=1 ...................................................\n",
            "[CV] ....................... C=10, gamma=1, score=0.766, total=   0.0s\n",
            "[CV] C=10, gamma=1 ...................................................\n",
            "[CV] ....................... C=10, gamma=1, score=0.925, total=   0.0s\n",
            "[CV] C=10, gamma=1 ...................................................\n",
            "[CV] ....................... C=10, gamma=1, score=0.692, total=   0.0s\n"
          ],
          "name": "stdout"
        },
        {
          "output_type": "stream",
          "text": [
            "[Parallel(n_jobs=1)]: Done 200 out of 200 | elapsed:    0.3s finished\n"
          ],
          "name": "stderr"
        },
        {
          "output_type": "execute_result",
          "data": {
            "text/plain": [
              "0.7262035177984737"
            ]
          },
          "metadata": {
            "tags": []
          },
          "execution_count": 12
        }
      ]
    },
    {
      "cell_type": "code",
      "metadata": {
        "id": "fTovO-kgB8pj",
        "colab_type": "code",
        "outputId": "858c85b7-58b8-4e5c-c2a0-5008c3ac7cec",
        "colab": {
          "base_uri": "https://localhost:8080/",
          "height": 35
        }
      },
      "source": [
        "grid.best_score_ #CV Score"
      ],
      "execution_count": 0,
      "outputs": [
        {
          "output_type": "execute_result",
          "data": {
            "text/plain": [
              "0.6702083258532943"
            ]
          },
          "metadata": {
            "tags": []
          },
          "execution_count": 13
        }
      ]
    },
    {
      "cell_type": "code",
      "metadata": {
        "id": "_2eICiyBB8pr",
        "colab_type": "code",
        "outputId": "2dbcfbae-a53e-4f88-f879-2c5390d618b3",
        "colab": {
          "base_uri": "https://localhost:8080/",
          "height": 35
        }
      },
      "source": [
        "grid.score(X_train, y_train) #Train Score  "
      ],
      "execution_count": 0,
      "outputs": [
        {
          "output_type": "execute_result",
          "data": {
            "text/plain": [
              "0.8172199836064503"
            ]
          },
          "metadata": {
            "tags": []
          },
          "execution_count": 14
        }
      ]
    },
    {
      "cell_type": "markdown",
      "metadata": {
        "id": "dMu-BgbdB8pz",
        "colab_type": "text"
      },
      "source": [
        "\n",
        "\n",
        "Recordad que podemos ver los parámetros seleccionados:"
      ]
    },
    {
      "cell_type": "code",
      "metadata": {
        "id": "wF99xxd_B8p2",
        "colab_type": "code",
        "outputId": "87c84b6c-41d6-42da-b059-510b0123a601",
        "colab": {
          "base_uri": "https://localhost:8080/",
          "height": 35
        }
      },
      "source": [
        "grid.best_params_"
      ],
      "execution_count": 0,
      "outputs": [
        {
          "output_type": "execute_result",
          "data": {
            "text/plain": [
              "{'C': 10, 'gamma': 1}"
            ]
          },
          "metadata": {
            "tags": []
          },
          "execution_count": 15
        }
      ]
    },
    {
      "cell_type": "markdown",
      "metadata": {
        "id": "Bd6tYrn0B8qH",
        "colab_type": "text"
      },
      "source": [
        "\n",
        "\n",
        "Existen Machine Learning scientists que utilizan un esquema más sencillo, separan el dataset en tres partes: training, validation, y test.\n",
        "Esta alternativa es útil cuando tenemos gran cantidad de datos o cuando es inviable entrenar muchos modelos utilizando CV por que este entrenamiento nos llevaría demasiado tiempo. \n",
        "\n",
        "Esta aproximación se realiza en scikit-learn de la siguiente manera:\n",
        "\n",
        "1. Realizamos una separación train-test\n",
        "2. Luego aplicamos ``GridSearchCV`` con cross-validación ``ShuffleSplit`` de una sóla iteración.\n",
        "\n",
        "<img src=\"https://raw.githubusercontent.com/al34n1x/DataScience/master/data/train_validation_test2.svg\" width=\"75%\">"
      ]
    },
    {
      "cell_type": "code",
      "metadata": {
        "id": "1dNDF_XcB8qK",
        "colab_type": "code",
        "outputId": "037c49ac-74f8-4bcf-c8dc-07061513ef23",
        "colab": {
          "base_uri": "https://localhost:8080/",
          "height": 853
        }
      },
      "source": [
        "from sklearn.model_selection import train_test_split, ShuffleSplit\n",
        "\n",
        "X_train, X_test, y_train, y_test = train_test_split(X, y, random_state=1)\n",
        "\n",
        "param_grid = {'C': [0.001, 0.01, 0.1, 1, 10],\n",
        "              'gamma': [0.001, 0.01, 0.1, 1]}\n",
        "single_split_cv = ShuffleSplit(n_splits=1)\n",
        "\n",
        "grid = GridSearchCV(SVR(), param_grid=param_grid, cv=single_split_cv, verbose=3)\n",
        "\n",
        "grid.fit(X_train, y_train)\n",
        "grid.score(X_test, y_test)"
      ],
      "execution_count": 0,
      "outputs": [
        {
          "output_type": "stream",
          "text": [
            "Fitting 1 folds for each of 20 candidates, totalling 20 fits\n",
            "[CV] C=0.001, gamma=0.001 ............................................\n",
            "[CV] ............... C=0.001, gamma=0.001, score=-0.057, total=   0.0s\n",
            "[CV] C=0.001, gamma=0.01 .............................................\n",
            "[CV] ................ C=0.001, gamma=0.01, score=-0.055, total=   0.0s\n",
            "[CV] C=0.001, gamma=0.1 ..............................................\n",
            "[CV] ................. C=0.001, gamma=0.1, score=-0.045, total=   0.0s\n",
            "[CV] C=0.001, gamma=1 ................................................\n",
            "[CV] ................... C=0.001, gamma=1, score=-0.047, total=   0.0s\n",
            "[CV] C=0.01, gamma=0.001 .............................................\n",
            "[CV] ................ C=0.01, gamma=0.001, score=-0.055, total=   0.0s\n",
            "[CV] C=0.01, gamma=0.01 ..............................................\n",
            "[CV] ................. C=0.01, gamma=0.01, score=-0.035, total=   0.0s\n",
            "[CV] C=0.01, gamma=0.1 ...............................................\n",
            "[CV] ................... C=0.01, gamma=0.1, score=0.030, total=   0.0s\n",
            "[CV] C=0.01, gamma=1 .................................................\n",
            "[CV] ..................... C=0.01, gamma=1, score=0.030, total=   0.0s\n",
            "[CV] C=0.1, gamma=0.001 ..............................................\n",
            "[CV] ................. C=0.1, gamma=0.001, score=-0.034, total=   0.0s\n",
            "[CV] C=0.1, gamma=0.01 ...............................................\n",
            "[CV] ................... C=0.1, gamma=0.01, score=0.122, total=   0.0s\n",
            "[CV] C=0.1, gamma=0.1 ................................................\n",
            "[CV] .................... C=0.1, gamma=0.1, score=0.552, total=   0.0s\n",
            "[CV] C=0.1, gamma=1 ..................................................\n",
            "[CV] ...................... C=0.1, gamma=1, score=0.443, total=   0.0s\n",
            "[CV] C=1, gamma=0.001 ................................................\n",
            "[CV] .................... C=1, gamma=0.001, score=0.134, total=   0.0s\n",
            "[CV] C=1, gamma=0.01 .................................................\n",
            "[CV] ..................... C=1, gamma=0.01, score=0.596, total=   0.0s\n",
            "[CV] C=1, gamma=0.1 ..................................................\n",
            "[CV] ...................... C=1, gamma=0.1, score=0.698, total=   0.0s\n",
            "[CV] C=1, gamma=1 ....................................................\n",
            "[CV] ........................ C=1, gamma=1, score=0.781, total=   0.0s\n",
            "[CV] C=10, gamma=0.001 ...............................................\n",
            "[CV] ................... C=10, gamma=0.001, score=0.584, total=   0.0s\n",
            "[CV] C=10, gamma=0.01 ................................................\n",
            "[CV] .................... C=10, gamma=0.01, score=0.600, total=   0.0s\n",
            "[CV] C=10, gamma=0.1 .................................................\n",
            "[CV] ..................... C=10, gamma=0.1, score=0.679, total=   0.0s\n",
            "[CV] C=10, gamma=1 ...................................................\n",
            "[CV] ....................... C=10, gamma=1, score=0.632, total=   0.0s\n"
          ],
          "name": "stdout"
        },
        {
          "output_type": "stream",
          "text": [
            "[Parallel(n_jobs=1)]: Using backend SequentialBackend with 1 concurrent workers.\n",
            "[Parallel(n_jobs=1)]: Done   1 out of   1 | elapsed:    0.0s remaining:    0.0s\n",
            "[Parallel(n_jobs=1)]: Done   2 out of   2 | elapsed:    0.0s remaining:    0.0s\n",
            "[Parallel(n_jobs=1)]: Done  20 out of  20 | elapsed:    0.0s finished\n"
          ],
          "name": "stderr"
        },
        {
          "output_type": "execute_result",
          "data": {
            "text/plain": [
              "0.6776381048598354"
            ]
          },
          "metadata": {
            "tags": []
          },
          "execution_count": 16
        }
      ]
    },
    {
      "cell_type": "markdown",
      "metadata": {
        "id": "7wHI7zGMB8qb",
        "colab_type": "text"
      },
      "source": [
        "\n",
        "\n",
        "Este método es mucho más rápido, pero puede llevar a peores hiperparámetros y, por lo tanto, peores resultados."
      ]
    },
    {
      "cell_type": "code",
      "metadata": {
        "id": "jz7tMBJMB8qf",
        "colab_type": "code",
        "outputId": "3271ad20-47eb-4ed9-eab2-c0ff371288a3",
        "colab": {
          "base_uri": "https://localhost:8080/",
          "height": 35
        }
      },
      "source": [
        "clf = GridSearchCV(SVR(), param_grid=param_grid)\n",
        "clf.fit(X_train, y_train)\n",
        "clf.score(X_test, y_test)"
      ],
      "execution_count": 0,
      "outputs": [
        {
          "output_type": "execute_result",
          "data": {
            "text/plain": [
              "0.7262035177984737"
            ]
          },
          "metadata": {
            "tags": []
          },
          "execution_count": 17
        }
      ]
    },
    {
      "cell_type": "markdown",
      "metadata": {
        "id": "TnszngjzB8qq",
        "colab_type": "text"
      },
      "source": [
        "\n",
        "\n",
        "# Ejercicio\n",
        "\n",
        "- Utiliza Grid-search para entrenar un KNN con el mejor número de vecinos (p.ej. 1 - 50) en el dataset de Digits."
      ]
    },
    {
      "cell_type": "code",
      "metadata": {
        "id": "dELtL5JyohNk",
        "colab_type": "code",
        "colab": {}
      },
      "source": [
        "#Respuesta"
      ],
      "execution_count": 0,
      "outputs": []
    }
  ]
}